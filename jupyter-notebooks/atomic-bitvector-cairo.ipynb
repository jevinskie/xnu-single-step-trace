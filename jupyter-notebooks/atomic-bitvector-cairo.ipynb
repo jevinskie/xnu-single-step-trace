{
 "cells": [
  {
   "cell_type": "code",
   "execution_count": null,
   "id": "df1c68bd",
   "metadata": {},
   "outputs": [],
   "source": [
    "from drawing import cairo_context\n",
    "import cairo"
   ]
  },
  {
   "cell_type": "code",
   "execution_count": null,
   "id": "d7f98dac",
   "metadata": {},
   "outputs": [],
   "source": [
    "def demo():\n",
    "    width, height = 800, 200\n",
    "    with cairo_context(width, height, format=\"svg\") as ctx:\n",
    "        ctx.scale(32, 32)\n",
    "#         ctx.rectangle(4, 4, 8, 8)\n",
    "#         ctx.fill()\n",
    "        ctx.select_font_face(\"Arial\", cairo.FONT_SLANT_NORMAL, cairo.FONT_WEIGHT_NORMAL)\n",
    "        ctx.set_font_size(12)\n",
    "        ctx.set_source_rgb(1, 0, 0)\n",
    "        ctx.move_to(16, 16)\n",
    "        ctx.show_text(\"243\")\n",
    "        ctx.fill()\n",
    "    return ctx"
   ]
  },
  {
   "cell_type": "code",
   "execution_count": null,
   "id": "b5a462f3",
   "metadata": {},
   "outputs": [
    {
     "data": {
      "image/svg+xml": [
       "<?xml version=\"1.0\" encoding=\"UTF-8\"?>\n",
       "<svg xmlns=\"http://www.w3.org/2000/svg\" xmlns:xlink=\"http://www.w3.org/1999/xlink\" width=\"800px\" height=\"200px\" viewBox=\"0 0 800 200\" version=\"1.1\">\n",
       "<g id=\"surface71\">\n",
       "</g>\n",
       "</svg>\n"
      ],
      "text/plain": [
       "<drawing._CairoSvg>"
      ]
     },
     "execution_count": null,
     "metadata": {},
     "output_type": "execute_result"
    }
   ],
   "source": [
    "demo()"
   ]
  },
  {
   "cell_type": "code",
   "execution_count": null,
   "id": "a9c77e1d",
   "metadata": {},
   "outputs": [],
   "source": []
  }
 ],
 "metadata": {
  "kernelspec": {
   "display_name": "Python 3 (ipykernel)",
   "language": "python",
   "name": "python3"
  }
 },
 "nbformat": 4,
 "nbformat_minor": 5
}
