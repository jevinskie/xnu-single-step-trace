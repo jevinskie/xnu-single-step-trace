{
 "cells": [
  {
   "cell_type": "code",
   "execution_count": null,
   "id": "5bc68eba",
   "metadata": {},
   "outputs": [],
   "source": [
    "import numpy as np\n",
    "from xnutrace.tracelog import TraceLog"
   ]
  },
  {
   "cell_type": "code",
   "execution_count": null,
   "id": "0075c85a",
   "metadata": {},
   "outputs": [
    {
     "name": "stdout",
     "output_type": "stream",
     "text": [
      "'../../../build/yield-loop-step-test.bundle/thread-14851.bin' decompressed 2,846 bytes to 75,760 bytes\n"
     ]
    }
   ],
   "source": [
    "tl = TraceLog(\"../../../build/yield-loop-step-test.bundle\")"
   ]
  },
  {
   "cell_type": "code",
   "execution_count": null,
   "id": "12728cfb",
   "metadata": {},
   "outputs": [
    {
     "data": {
      "text/plain": [
       "[]"
      ]
     },
     "execution_count": null,
     "metadata": {},
     "output_type": "execute_result"
    }
   ],
   "source": [
    "tl.subregions"
   ]
  },
  {
   "cell_type": "code",
   "execution_count": null,
   "id": "1774ceba",
   "metadata": {},
   "outputs": [],
   "source": []
  }
 ],
 "metadata": {
  "kernelspec": {
   "display_name": "Python 3 (ipykernel)",
   "language": "python",
   "name": "python3"
  }
 },
 "nbformat": 4,
 "nbformat_minor": 5
}
