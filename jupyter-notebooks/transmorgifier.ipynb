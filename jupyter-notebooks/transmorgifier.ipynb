{
 "cells": [
  {
   "cell_type": "code",
   "execution_count": null,
   "id": "1b7105b7",
   "metadata": {},
   "outputs": [],
   "source": [
    "import numpy as np\n",
    "from xnutrace.tracelog import TraceLog"
   ]
  },
  {
   "cell_type": "code",
   "execution_count": null,
   "id": "0a9b4674",
   "metadata": {},
   "outputs": [
    {
     "name": "stdout",
     "output_type": "stream",
     "text": [
      "'../../../build/yield-loop-step-test.bundle/thread-14851.bin' decompressed 2,846 bytes to 75,760 bytes\n"
     ]
    }
   ],
   "source": [
    "tl = TraceLog(\"../../../build/yield-loop-step-test.bundle\")"
   ]
  },
  {
   "cell_type": "code",
   "execution_count": null,
   "id": "f360febe",
   "metadata": {},
   "outputs": [
    {
     "data": {
      "text/plain": [
       "[]"
      ]
     },
     "execution_count": null,
     "metadata": {},
     "output_type": "execute_result"
    }
   ],
   "source": [
    "tl.subregions"
   ]
  },
  {
   "cell_type": "code",
   "execution_count": null,
   "id": "700e092c",
   "metadata": {},
   "outputs": [],
   "source": [
    "def pow2_round_down(n: int, pow2: int) -> int:\n",
    "    return n & ~(pow2 - np.uint8(1))"
   ]
  },
  {
   "cell_type": "code",
   "execution_count": null,
   "id": "1833bfdc",
   "metadata": {},
   "outputs": [],
   "source": [
    "def pow2_round_up(n: int, pow2: int) -> int:\n",
    "    return pow2_round_down(n, pow2) + pow2"
   ]
  },
  {
   "cell_type": "code",
   "execution_count": null,
   "id": "7fafb029",
   "metadata": {},
   "outputs": [
    {
     "data": {
      "text/plain": [
       "'0x8000'"
      ]
     },
     "execution_count": null,
     "metadata": {},
     "output_type": "execute_result"
    }
   ],
   "source": [
    "hex(pow2_round_down(0x8FFF, 0x4000))"
   ]
  },
  {
   "cell_type": "code",
   "execution_count": null,
   "id": "1c070f66",
   "metadata": {},
   "outputs": [
    {
     "data": {
      "text/plain": [
       "'0xc000'"
      ]
     },
     "execution_count": null,
     "metadata": {},
     "output_type": "execute_result"
    }
   ],
   "source": [
    "hex(pow2_round_up(0x8FFF, 0x4000))"
   ]
  },
  {
   "cell_type": "code",
   "execution_count": null,
   "id": "04240a5d",
   "metadata": {},
   "outputs": [],
   "source": []
  }
 ],
 "metadata": {
  "kernelspec": {
   "display_name": "Python 3 (ipykernel)",
   "language": "python",
   "name": "python3"
  }
 },
 "nbformat": 4,
 "nbformat_minor": 5
}
