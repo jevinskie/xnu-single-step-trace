{
 "cells": [
  {
   "cell_type": "code",
   "execution_count": null,
   "id": "84201020",
   "metadata": {},
   "outputs": [],
   "source": [
    "import os\n",
    "import pandas as pd\n",
    "import numpy as np\n",
    "import xarray as xr\n",
    "import colorcet\n",
    "import datashader as ds\n",
    "from xnutrace.tracelog import TraceLog"
   ]
  },
  {
   "cell_type": "code",
   "execution_count": null,
   "id": "e79a4261",
   "metadata": {},
   "outputs": [
    {
     "name": "stdout",
     "output_type": "stream",
     "text": [
      "'../../../build/harness.bundle/thread-259.bin' decompressed 597,028 bytes to 425,726,512 bytes\n"
     ]
    }
   ],
   "source": [
    "tl = TraceLog(\"../../../build/harness.bundle\")"
   ]
  },
  {
   "cell_type": "code",
   "execution_count": null,
   "id": "73c5efc4",
   "metadata": {},
   "outputs": [],
   "source": [
    "pcs = tl.based_pcs_for_image(os.getenv(\"IMG_NAME\"))"
   ]
  },
  {
   "cell_type": "code",
   "execution_count": null,
   "id": "42f05bc6",
   "metadata": {},
   "outputs": [
    {
     "data": {
      "text/plain": [
       "(27392681,)"
      ]
     },
     "execution_count": null,
     "metadata": {},
     "output_type": "execute_result"
    }
   ],
   "source": [
    "pcs.shape"
   ]
  },
  {
   "cell_type": "code",
   "execution_count": null,
   "id": "2a713134",
   "metadata": {},
   "outputs": [],
   "source": [
    "idx = np.arange(len(pcs))"
   ]
  },
  {
   "cell_type": "code",
   "execution_count": null,
   "id": "fed789af",
   "metadata": {},
   "outputs": [
    {
     "data": {
      "text/plain": [
       "(27392681,)"
      ]
     },
     "execution_count": null,
     "metadata": {},
     "output_type": "execute_result"
    }
   ],
   "source": [
    "idx.shape"
   ]
  },
  {
   "cell_type": "code",
   "execution_count": null,
   "id": "5624107e",
   "metadata": {},
   "outputs": [],
   "source": [
    "raw_points = np.dstack((pcs, idx))[0,:,:]"
   ]
  },
  {
   "cell_type": "code",
   "execution_count": null,
   "id": "7d880873",
   "metadata": {},
   "outputs": [
    {
     "data": {
      "text/plain": [
       "(27392681, 2)"
      ]
     },
     "execution_count": null,
     "metadata": {},
     "output_type": "execute_result"
    }
   ],
   "source": [
    "raw_points.shape"
   ]
  },
  {
   "cell_type": "code",
   "execution_count": null,
   "id": "69c4e1ee",
   "metadata": {},
   "outputs": [],
   "source": [
    "df = pd.DataFrame(raw_points, columns=(\"addr\", \"time\"), copy=False)"
   ]
  },
  {
   "cell_type": "code",
   "execution_count": null,
   "id": "2db960b6",
   "metadata": {},
   "outputs": [
    {
     "data": {
      "text/html": [
       "<div>\n",
       "<style scoped>\n",
       "    .dataframe tbody tr th:only-of-type {\n",
       "        vertical-align: middle;\n",
       "    }\n",
       "\n",
       "    .dataframe tbody tr th {\n",
       "        vertical-align: top;\n",
       "    }\n",
       "\n",
       "    .dataframe thead th {\n",
       "        text-align: right;\n",
       "    }\n",
       "</style>\n",
       "<table border=\"1\" class=\"dataframe\">\n",
       "  <thead>\n",
       "    <tr style=\"text-align: right;\">\n",
       "      <th></th>\n",
       "      <th>addr</th>\n",
       "      <th>time</th>\n",
       "    </tr>\n",
       "  </thead>\n",
       "  <tbody>\n",
       "    <tr>\n",
       "      <th>0</th>\n",
       "      <td>90336.0</td>\n",
       "      <td>0.0</td>\n",
       "    </tr>\n",
       "    <tr>\n",
       "      <th>1</th>\n",
       "      <td>90340.0</td>\n",
       "      <td>1.0</td>\n",
       "    </tr>\n",
       "    <tr>\n",
       "      <th>2</th>\n",
       "      <td>90344.0</td>\n",
       "      <td>2.0</td>\n",
       "    </tr>\n",
       "    <tr>\n",
       "      <th>3</th>\n",
       "      <td>90348.0</td>\n",
       "      <td>3.0</td>\n",
       "    </tr>\n",
       "    <tr>\n",
       "      <th>4</th>\n",
       "      <td>90352.0</td>\n",
       "      <td>4.0</td>\n",
       "    </tr>\n",
       "    <tr>\n",
       "      <th>...</th>\n",
       "      <td>...</td>\n",
       "      <td>...</td>\n",
       "    </tr>\n",
       "    <tr>\n",
       "      <th>27392676</th>\n",
       "      <td>149420.0</td>\n",
       "      <td>27392676.0</td>\n",
       "    </tr>\n",
       "    <tr>\n",
       "      <th>27392677</th>\n",
       "      <td>149424.0</td>\n",
       "      <td>27392677.0</td>\n",
       "    </tr>\n",
       "    <tr>\n",
       "      <th>27392678</th>\n",
       "      <td>149428.0</td>\n",
       "      <td>27392678.0</td>\n",
       "    </tr>\n",
       "    <tr>\n",
       "      <th>27392679</th>\n",
       "      <td>149432.0</td>\n",
       "      <td>27392679.0</td>\n",
       "    </tr>\n",
       "    <tr>\n",
       "      <th>27392680</th>\n",
       "      <td>149436.0</td>\n",
       "      <td>27392680.0</td>\n",
       "    </tr>\n",
       "  </tbody>\n",
       "</table>\n",
       "<p>27392681 rows × 2 columns</p>\n",
       "</div>"
      ],
      "text/plain": [
       "              addr        time\n",
       "0          90336.0         0.0\n",
       "1          90340.0         1.0\n",
       "2          90344.0         2.0\n",
       "3          90348.0         3.0\n",
       "4          90352.0         4.0\n",
       "...            ...         ...\n",
       "27392676  149420.0  27392676.0\n",
       "27392677  149424.0  27392677.0\n",
       "27392678  149428.0  27392678.0\n",
       "27392679  149432.0  27392679.0\n",
       "27392680  149436.0  27392680.0\n",
       "\n",
       "[27392681 rows x 2 columns]"
      ]
     },
     "execution_count": null,
     "metadata": {},
     "output_type": "execute_result"
    }
   ],
   "source": [
    "df"
   ]
  },
  {
   "cell_type": "code",
   "execution_count": null,
   "id": "f91344d4",
   "metadata": {},
   "outputs": [],
   "source": [
    "cvs = ds.Canvas(plot_width=850, plot_height=500)"
   ]
  },
  {
   "cell_type": "code",
   "execution_count": null,
   "id": "cc49bf74",
   "metadata": {},
   "outputs": [],
   "source": [
    "agg = cvs.points(df, 'addr', 'time')"
   ]
  },
  {
   "cell_type": "code",
   "execution_count": null,
   "id": "483f823f",
   "metadata": {},
   "outputs": [],
   "source": [
    "img = ds.tf.shade(agg, cmap=colorcet.fire)"
   ]
  },
  {
   "cell_type": "code",
   "execution_count": null,
   "id": "ffdfa5ff",
   "metadata": {},
   "outputs": [
    {
     "data": {
      "image/png": "[encoded data removed]",
      "text/html": [
       "<img style=\"margin: auto; border:1px solid\" src='data:image/png;base64,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'/>"
      ],
      "text/plain": [
       "<xarray.Image (time: 500, addr: 850)>\n",
       "array([[         0,          0,          0, ..., 4278190124, 4278190124,\n",
       "        4278190087],\n",
       "       [         0,          0,          0, ...,          0,          0,\n",
       "                 0],\n",
       "       [         0,          0,          0, ...,          0,          0,\n",
       "                 0],\n",
       "       ...,\n",
       "       [         0,          0,          0, ...,          0,          0,\n",
       "                 0],\n",
       "       [         0,          0,          0, ...,          0,          0,\n",
       "                 0],\n",
       "       [4278190090,          0,          0, ...,          0,          0,\n",
       "        4278190085]], dtype=uint32)\n",
       "Coordinates:\n",
       "  * addr     (addr) float64 2.805e+04 2.87e+04 2.935e+04 ... 5.802e+05 5.809e+05\n",
       "  * time     (time) float64 2.739e+04 8.218e+04 1.37e+05 ... 2.731e+07 2.737e+07"
      ]
     },
     "execution_count": null,
     "metadata": {},
     "output_type": "execute_result"
    }
   ],
   "source": [
    "img"
   ]
  },
  {
   "cell_type": "code",
   "execution_count": null,
   "id": "4bd2571c",
   "metadata": {},
   "outputs": [],
   "source": [
    "pil = img.to_pil()"
   ]
  },
  {
   "cell_type": "code",
   "execution_count": null,
   "id": "6164c76f",
   "metadata": {},
   "outputs": [],
   "source": [
    "pil.save(\"foo.png\")"
   ]
  },
  {
   "cell_type": "code",
   "execution_count": null,
   "id": "d1fbf9ee",
   "metadata": {},
   "outputs": [],
   "source": []
  }
 ],
 "metadata": {
  "kernelspec": {
   "display_name": "Python 3 (ipykernel)",
   "language": "python",
   "name": "python3"
  }
 },
 "nbformat": 4,
 "nbformat_minor": 5
}
