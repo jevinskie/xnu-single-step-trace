{
 "cells": [
  {
   "cell_type": "code",
   "execution_count": 1,
   "id": "72040ff0",
   "metadata": {},
   "outputs": [],
   "source": [
    "import numba\n",
    "import numpy as np"
   ]
  },
  {
   "cell_type": "code",
   "execution_count": 6,
   "id": "b8ecd276",
   "metadata": {},
   "outputs": [
    {
     "name": "stdout",
     "output_type": "stream",
     "text": [
      "[4642753818981826560]\n"
     ]
    },
    {
     "data": {
      "text/plain": [
       "array([4.64275382e+18, 2.43000000e+02])"
      ]
     },
     "execution_count": 6,
     "metadata": {},
     "output_type": "execute_result"
    }
   ],
   "source": [
    "a = np.ndarray((1,), dtype=np.uint64)\n",
    "print(a)\n",
    "np.append(a, 243)"
   ]
  },
  {
   "cell_type": "code",
   "execution_count": 7,
   "id": "050ad57a",
   "metadata": {},
   "outputs": [],
   "source": [
    "b = np.arange(0, 10)"
   ]
  },
  {
   "cell_type": "code",
   "execution_count": 8,
   "id": "7aeec0a8",
   "metadata": {},
   "outputs": [],
   "source": [
    "c = np.arange(20, 30)"
   ]
  },
  {
   "cell_type": "code",
   "execution_count": 9,
   "id": "4be8c9d8",
   "metadata": {},
   "outputs": [
    {
     "data": {
      "text/plain": [
       "array([0, 1, 2, 3, 4, 5, 6, 7, 8, 9])"
      ]
     },
     "execution_count": 9,
     "metadata": {},
     "output_type": "execute_result"
    }
   ],
   "source": [
    "b"
   ]
  },
  {
   "cell_type": "code",
   "execution_count": 10,
   "id": "174b692e",
   "metadata": {},
   "outputs": [
    {
     "data": {
      "text/plain": [
       "array([20, 21, 22, 23, 24, 25, 26, 27, 28, 29])"
      ]
     },
     "execution_count": 10,
     "metadata": {},
     "output_type": "execute_result"
    }
   ],
   "source": [
    "c"
   ]
  },
  {
   "cell_type": "code",
   "execution_count": 11,
   "id": "62e3e14f",
   "metadata": {},
   "outputs": [
    {
     "data": {
      "text/plain": [
       "array([  0,  21,  44,  69,  96, 125, 156, 189, 224, 261])"
      ]
     },
     "execution_count": 11,
     "metadata": {},
     "output_type": "execute_result"
    }
   ],
   "source": [
    "b * c"
   ]
  },
  {
   "cell_type": "code",
   "execution_count": 12,
   "id": "a3fc0272",
   "metadata": {},
   "outputs": [
    {
     "data": {
      "text/plain": [
       "1185"
      ]
     },
     "execution_count": 12,
     "metadata": {},
     "output_type": "execute_result"
    }
   ],
   "source": [
    "b.dot(c)"
   ]
  },
  {
   "cell_type": "code",
   "execution_count": 13,
   "id": "6890dec1",
   "metadata": {},
   "outputs": [
    {
     "ename": "TypeError",
     "evalue": "only integer scalar arrays can be converted to a scalar index",
     "output_type": "error",
     "traceback": [
      "\u001b[0;31m---------------------------------------------------------------------------\u001b[0m",
      "\u001b[0;31mTypeError\u001b[0m                                 Traceback (most recent call last)",
      "Input \u001b[0;32mIn [13]\u001b[0m, in \u001b[0;36m<cell line: 1>\u001b[0;34m()\u001b[0m\n\u001b[0;32m----> 1\u001b[0m \u001b[43mnp\u001b[49m\u001b[38;5;241;43m.\u001b[39;49m\u001b[43mconcatenate\u001b[49m\u001b[43m(\u001b[49m\u001b[43mb\u001b[49m\u001b[43m,\u001b[49m\u001b[43m \u001b[49m\u001b[43mc\u001b[49m\u001b[43m)\u001b[49m\n",
      "File \u001b[0;32m<__array_function__ internals>:180\u001b[0m, in \u001b[0;36mconcatenate\u001b[0;34m(*args, **kwargs)\u001b[0m\n",
      "\u001b[0;31mTypeError\u001b[0m: only integer scalar arrays can be converted to a scalar index"
     ]
    }
   ],
   "source": [
    "np.concatenate(b, c)"
   ]
  },
  {
   "cell_type": "code",
   "execution_count": 14,
   "id": "b3b5dd8e",
   "metadata": {},
   "outputs": [
    {
     "data": {
      "text/plain": [
       "[array([0, 1, 2, 3, 4, 5, 6, 7, 8, 9]),\n",
       " array([20, 21, 22, 23, 24, 25, 26, 27, 28, 29])]"
      ]
     },
     "execution_count": 14,
     "metadata": {},
     "output_type": "execute_result"
    }
   ],
   "source": [
    "[b, c]"
   ]
  },
  {
   "cell_type": "code",
   "execution_count": 15,
   "id": "c5434cde",
   "metadata": {},
   "outputs": [
    {
     "data": {
      "text/plain": [
       "array([[[ 0, 20],\n",
       "        [ 1, 21],\n",
       "        [ 2, 22],\n",
       "        [ 3, 23],\n",
       "        [ 4, 24],\n",
       "        [ 5, 25],\n",
       "        [ 6, 26],\n",
       "        [ 7, 27],\n",
       "        [ 8, 28],\n",
       "        [ 9, 29]]])"
      ]
     },
     "execution_count": 15,
     "metadata": {},
     "output_type": "execute_result"
    }
   ],
   "source": [
    "np.dstack((b, c))"
   ]
  },
  {
   "cell_type": "code",
   "execution_count": null,
   "id": "c187dc79",
   "metadata": {},
   "outputs": [],
   "source": []
  }
 ],
 "metadata": {
  "kernelspec": {
   "display_name": "Python 3 (ipykernel)",
   "language": "python",
   "name": "python3"
  },
  "language_info": {
   "codemirror_mode": {
    "name": "ipython",
    "version": 3
   },
   "file_extension": ".py",
   "mimetype": "text/x-python",
   "name": "python",
   "nbconvert_exporter": "python",
   "pygments_lexer": "ipython3",
   "version": "3.10.6"
  }
 },
 "nbformat": 4,
 "nbformat_minor": 5
}
